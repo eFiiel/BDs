{
 "cells": [
  {
   "cell_type": "code",
   "execution_count": 2,
   "id": "39078a70-90d8-40a9-b934-160af03376e9",
   "metadata": {},
   "outputs": [
    {
     "name": "stdout",
     "output_type": "stream",
     "text": [
      "Spada Bundao\n"
     ]
    }
   ],
   "source": [
    "print(\"Spada Bundao\")"
   ]
  },
  {
   "cell_type": "code",
   "execution_count": 6,
   "id": "ae01a1ff-f26d-453c-9726-475033fa5f20",
   "metadata": {},
   "outputs": [
    {
     "name": "stdout",
     "output_type": "stream",
     "text": [
      "Bundao2\n"
     ]
    }
   ],
   "source": [
    "print(\"Bundao2\")"
   ]
  },
  {
   "cell_type": "code",
   "execution_count": 7,
   "id": "2bac153a-3549-4d09-a95f-53c45afb81e8",
   "metadata": {},
   "outputs": [
    {
     "name": "stdout",
     "output_type": "stream",
     "text": [
      "teste\n"
     ]
    }
   ],
   "source": [
    "print(\"teste\")"
   ]
  }
 ],
 "metadata": {
  "kernelspec": {
   "display_name": "Python 3 (ipykernel)",
   "language": "python",
   "name": "python3"
  },
  "language_info": {
   "codemirror_mode": {
    "name": "ipython",
    "version": 3
   },
   "file_extension": ".py",
   "mimetype": "text/x-python",
   "name": "python",
   "nbconvert_exporter": "python",
   "pygments_lexer": "ipython3",
   "version": "3.9.7"
  }
 },
 "nbformat": 4,
 "nbformat_minor": 5
}
