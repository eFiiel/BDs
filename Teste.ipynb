{
 "cells": [
  {
   "cell_type": "code",
   "execution_count": 6,
   "id": "ae01a1ff-f26d-453c-9726-475033fa5f20",
   "metadata": {},
   "outputs": [
    {
     "name": "stdout",
     "output_type": "stream",
     "text": [
      "Bundao2\n"
     ]
    }
   ],
   "source": [
    "print(\"Bundao2\")"
   ]
  },
  {
   "cell_type": "code",
   "execution_count": 7,
   "id": "2bac153a-3549-4d09-a95f-53c45afb81e8",
   "metadata": {},
   "outputs": [
    {
     "name": "stdout",
     "output_type": "stream",
     "text": [
      "teste\n"
     ]
    }
   ],
   "source": [
    "print(\"teste\")"
   ]
  },
  {
   "cell_type": "code",
   "execution_count": 2,
   "id": "e29ae435-0348-44e0-ae3d-a4e1b32f0370",
   "metadata": {
    "execution": {
     "iopub.execute_input": "2022-08-18T13:06:14.891824Z",
     "iopub.status.busy": "2022-08-18T13:06:14.890685Z",
     "iopub.status.idle": "2022-08-18T13:06:14.896081Z",
     "shell.execute_reply": "2022-08-18T13:06:14.895445Z",
     "shell.execute_reply.started": "2022-08-18T13:06:14.891785Z"
    },
    "tags": []
   },
   "outputs": [
    {
     "name": "stdout",
     "output_type": "stream",
     "text": [
      "Teste 3\n"
     ]
    }
   ],
   "source": [
    "print(\"Teste 3\")"
   ]
  },
  {
   "cell_type": "code",
   "execution_count": null,
   "id": "22d700f4-d08e-410a-a477-a99d29008706",
   "metadata": {},
   "outputs": [],
   "source": []
  }
 ],
 "metadata": {
  "kernelspec": {
   "display_name": "Python 3 (ipykernel)",
   "language": "python",
   "name": "python3"
  },
  "language_info": {
   "codemirror_mode": {
    "name": "ipython",
    "version": 3
   },
   "file_extension": ".py",
   "mimetype": "text/x-python",
   "name": "python",
   "nbconvert_exporter": "python",
   "pygments_lexer": "ipython3",
   "version": "3.9.7"
  }
 },
 "nbformat": 4,
 "nbformat_minor": 5
}
